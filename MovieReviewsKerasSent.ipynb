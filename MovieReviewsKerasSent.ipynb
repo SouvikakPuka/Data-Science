{
  "nbformat": 4,
  "nbformat_minor": 0,
  "metadata": {
    "colab": {
      "name": "MovieReviewsKerasSent.ipynb",
      "provenance": [],
      "machine_shape": "hm",
      "authorship_tag": "ABX9TyONTf1nlYuPWq+1LbzLG8BO",
      "include_colab_link": true
    },
    "kernelspec": {
      "name": "python3",
      "display_name": "Python 3"
    },
    "accelerator": "GPU"
  },
  "cells": [
    {
      "cell_type": "markdown",
      "metadata": {
        "id": "view-in-github",
        "colab_type": "text"
      },
      "source": [
        "<a href=\"https://colab.research.google.com/github/SouvikakaPuka/Data-Science/blob/master/MovieReviewsKerasSent.ipynb\" target=\"_parent\"><img src=\"https://colab.research.google.com/assets/colab-badge.svg\" alt=\"Open In Colab\"/></a>"
      ]
    },
    {
      "cell_type": "code",
      "metadata": {
        "id": "u3kkrcPWmofR",
        "colab_type": "code",
        "outputId": "d18ccbaf-1cb5-459a-9452-1dc81aa695ea",
        "colab": {
          "base_uri": "https://localhost:8080/",
          "height": 118
        }
      },
      "source": [
        "# Import the pandas library to read our dataset\n",
        "import pandas as pd\n",
        "from pandas import DataFrame, Series\n",
        "# Get the train/test split package from sklearn for preparing our dataset to\n",
        "# train and test the model with\n",
        "from sklearn.model_selection import train_test_split\n",
        "#For PCA\n",
        "from sklearn.decomposition import PCA, TruncatedSVD\n",
        "# Import the numpy library to work with and manipulate the data\n",
        "import numpy as np\n",
        "import nltk\n",
        "import random\n",
        "nltk.download('punkt')\n",
        "nltk.download('stopwords')\n",
        "# nltk.download('movie_reviews')\n",
        "nltk.download('wordnet')\n",
        "from nltk.tokenize import word_tokenize"
      ],
      "execution_count": 1,
      "outputs": [
        {
          "output_type": "stream",
          "text": [
            "[nltk_data] Downloading package punkt to /root/nltk_data...\n",
            "[nltk_data]   Package punkt is already up-to-date!\n",
            "[nltk_data] Downloading package stopwords to /root/nltk_data...\n",
            "[nltk_data]   Package stopwords is already up-to-date!\n",
            "[nltk_data] Downloading package wordnet to /root/nltk_data...\n",
            "[nltk_data]   Package wordnet is already up-to-date!\n"
          ],
          "name": "stdout"
        }
      ]
    },
    {
      "cell_type": "code",
      "metadata": {
        "id": "YAhLGUgcm_WZ",
        "colab_type": "code",
        "outputId": "f229c84f-4a2a-4fd8-a380-077bc9bcb449",
        "colab": {
          "base_uri": "https://localhost:8080/",
          "height": 79
        }
      },
      "source": [
        "import keras\n",
        "from keras.models import Sequential\n",
        "from keras.models import Model\n",
        "from keras.layers import Dense, Conv1D, Flatten, MaxPooling1D, GlobalAveragePooling1D, BatchNormalization, Dropout\n",
        "from keras.optimizers import SGD, Adam, Nadam, RMSprop, Adamax\n",
        "from keras.utils import to_categorical"
      ],
      "execution_count": 2,
      "outputs": [
        {
          "output_type": "stream",
          "text": [
            "Using TensorFlow backend.\n"
          ],
          "name": "stderr"
        },
        {
          "output_type": "display_data",
          "data": {
            "text/html": [
              "<p style=\"color: red;\">\n",
              "The default version of TensorFlow in Colab will soon switch to TensorFlow 2.x.<br>\n",
              "We recommend you <a href=\"https://www.tensorflow.org/guide/migrate\" target=\"_blank\">upgrade</a> now \n",
              "or ensure your notebook will continue to use TensorFlow 1.x via the <code>%tensorflow_version 1.x</code> magic:\n",
              "<a href=\"https://colab.research.google.com/notebooks/tensorflow_version.ipynb\" target=\"_blank\">more info</a>.</p>\n"
            ],
            "text/plain": [
              "<IPython.core.display.HTML object>"
            ]
          },
          "metadata": {
            "tags": []
          }
        }
      ]
    },
    {
      "cell_type": "code",
      "metadata": {
        "id": "h8ZGqPXHnFq1",
        "colab_type": "code",
        "outputId": "0fdc9b7d-9d87-46df-ef6b-a0111d909730",
        "colab": {
          "base_uri": "https://localhost:8080/",
          "height": 195
        }
      },
      "source": [
        "data = pd.read_csv('https://raw.githubusercontent.com/cacoderquan/Sentiment-Analysis-on-the-Rotten-Tomatoes-movie-review-dataset/master/train.tsv', sep='\\t')\n",
        "data.head()"
      ],
      "execution_count": 3,
      "outputs": [
        {
          "output_type": "execute_result",
          "data": {
            "text/html": [
              "<div>\n",
              "<style scoped>\n",
              "    .dataframe tbody tr th:only-of-type {\n",
              "        vertical-align: middle;\n",
              "    }\n",
              "\n",
              "    .dataframe tbody tr th {\n",
              "        vertical-align: top;\n",
              "    }\n",
              "\n",
              "    .dataframe thead th {\n",
              "        text-align: right;\n",
              "    }\n",
              "</style>\n",
              "<table border=\"1\" class=\"dataframe\">\n",
              "  <thead>\n",
              "    <tr style=\"text-align: right;\">\n",
              "      <th></th>\n",
              "      <th>PhraseId</th>\n",
              "      <th>SentenceId</th>\n",
              "      <th>Phrase</th>\n",
              "      <th>Sentiment</th>\n",
              "    </tr>\n",
              "  </thead>\n",
              "  <tbody>\n",
              "    <tr>\n",
              "      <th>0</th>\n",
              "      <td>1</td>\n",
              "      <td>1</td>\n",
              "      <td>A series of escapades demonstrating the adage ...</td>\n",
              "      <td>1</td>\n",
              "    </tr>\n",
              "    <tr>\n",
              "      <th>1</th>\n",
              "      <td>2</td>\n",
              "      <td>1</td>\n",
              "      <td>A series of escapades demonstrating the adage ...</td>\n",
              "      <td>2</td>\n",
              "    </tr>\n",
              "    <tr>\n",
              "      <th>2</th>\n",
              "      <td>3</td>\n",
              "      <td>1</td>\n",
              "      <td>A series</td>\n",
              "      <td>2</td>\n",
              "    </tr>\n",
              "    <tr>\n",
              "      <th>3</th>\n",
              "      <td>4</td>\n",
              "      <td>1</td>\n",
              "      <td>A</td>\n",
              "      <td>2</td>\n",
              "    </tr>\n",
              "    <tr>\n",
              "      <th>4</th>\n",
              "      <td>5</td>\n",
              "      <td>1</td>\n",
              "      <td>series</td>\n",
              "      <td>2</td>\n",
              "    </tr>\n",
              "  </tbody>\n",
              "</table>\n",
              "</div>"
            ],
            "text/plain": [
              "   PhraseId  ...  Sentiment\n",
              "0         1  ...          1\n",
              "1         2  ...          2\n",
              "2         3  ...          2\n",
              "3         4  ...          2\n",
              "4         5  ...          2\n",
              "\n",
              "[5 rows x 4 columns]"
            ]
          },
          "metadata": {
            "tags": []
          },
          "execution_count": 3
        }
      ]
    },
    {
      "cell_type": "code",
      "metadata": {
        "id": "rTVuOrJ0zK1j",
        "colab_type": "code",
        "outputId": "6ed9c6c3-05b9-4eec-9afe-d0bd6530abd9",
        "colab": {
          "base_uri": "https://localhost:8080/",
          "height": 34
        }
      },
      "source": [
        "X = data['Phrase']\n",
        "Y = data['Sentiment']\n",
        "print(X.shape, Y.shape)"
      ],
      "execution_count": 4,
      "outputs": [
        {
          "output_type": "stream",
          "text": [
            "(156060,) (156060,)\n"
          ],
          "name": "stdout"
        }
      ]
    },
    {
      "cell_type": "code",
      "metadata": {
        "id": "T7AYDpvvnPq6",
        "colab_type": "code",
        "outputId": "391f113d-16b3-44f3-e488-4b16134628d5",
        "colab": {
          "base_uri": "https://localhost:8080/",
          "height": 34
        }
      },
      "source": [
        "# Get number of unique sentences\n",
        "numSentences = data['SentenceId'].max()\n",
        "\n",
        "# extract full sentences only from the dataset\n",
        "fullSentences = []\n",
        "curSentence = 0\n",
        "for i in range(data.shape[0]):\n",
        "  if data['SentenceId'][i]> curSentence:\n",
        "    fullSentences.append((data['Phrase'][i], data['Sentiment'][i]))\n",
        "    curSentence = curSentence +1\n",
        "\n",
        "len(fullSentences)"
      ],
      "execution_count": 5,
      "outputs": [
        {
          "output_type": "execute_result",
          "data": {
            "text/plain": [
              "8544"
            ]
          },
          "metadata": {
            "tags": []
          },
          "execution_count": 5
        }
      ]
    },
    {
      "cell_type": "code",
      "metadata": {
        "id": "WTKXvRdAndJT",
        "colab_type": "code",
        "colab": {}
      },
      "source": [
        "# put data into a df\n",
        "fullSentDf = pd.DataFrame(fullSentences, columns=['Phrase', 'Sentiment'])"
      ],
      "execution_count": 0,
      "outputs": []
    },
    {
      "cell_type": "code",
      "metadata": {
        "id": "6H-UnQ3Dn_dl",
        "colab_type": "code",
        "outputId": "e7f89417-0571-4815-f886-96bf78ebdb5b",
        "colab": {
          "base_uri": "https://localhost:8080/",
          "height": 118
        }
      },
      "source": [
        "# Check class imbalance in tokenized sentences\n",
        "data['Sentiment'].value_counts()"
      ],
      "execution_count": 7,
      "outputs": [
        {
          "output_type": "execute_result",
          "data": {
            "text/plain": [
              "2    79582\n",
              "3    32927\n",
              "1    27273\n",
              "4     9206\n",
              "0     7072\n",
              "Name: Sentiment, dtype: int64"
            ]
          },
          "metadata": {
            "tags": []
          },
          "execution_count": 7
        }
      ]
    },
    {
      "cell_type": "code",
      "metadata": {
        "id": "XZJGkkKBn4x9",
        "colab_type": "code",
        "outputId": "b75f1db2-2ceb-420e-e3e8-3f0505cf8890",
        "colab": {
          "base_uri": "https://localhost:8080/",
          "height": 118
        }
      },
      "source": [
        "# Check class imbalance in full sentences\n",
        "fullSentDf['Sentiment'].value_counts()"
      ],
      "execution_count": 8,
      "outputs": [
        {
          "output_type": "execute_result",
          "data": {
            "text/plain": [
              "3    2325\n",
              "1    2203\n",
              "2    1659\n",
              "4    1282\n",
              "0    1075\n",
              "Name: Sentiment, dtype: int64"
            ]
          },
          "metadata": {
            "tags": []
          },
          "execution_count": 8
        }
      ]
    },
    {
      "cell_type": "code",
      "metadata": {
        "id": "4ZcYT7HxoEhe",
        "colab_type": "code",
        "colab": {}
      },
      "source": [
        "documents = []\n",
        "#convert data into list format\n",
        "\n",
        "# Use only complete sentences\n",
        "for i in range(fullSentDf.shape[0]):\n",
        "  tmpWords = word_tokenize(fullSentDf['Phrase'][i])\n",
        "  documents.append((tmpWords, fullSentDf['Sentiment'][i]))\n"
      ],
      "execution_count": 0,
      "outputs": []
    },
    {
      "cell_type": "code",
      "metadata": {
        "id": "aXUxXmBypxsj",
        "colab_type": "code",
        "outputId": "8642ef7d-bd50-4965-9de9-5398ed64f616",
        "colab": {
          "base_uri": "https://localhost:8080/",
          "height": 34
        }
      },
      "source": [
        "random.seed(9001)\n",
        "random.shuffle(documents)\n",
        "print(documents[:][0])"
      ],
      "execution_count": 10,
      "outputs": [
        {
          "output_type": "stream",
          "text": [
            "(['Full', 'Frontal', 'had', 'no', 'effect', 'and', 'elicited', 'no', 'sympathies', 'for', 'any', 'of', 'the', 'characters', '.'], 1)\n"
          ],
          "name": "stdout"
        }
      ]
    },
    {
      "cell_type": "code",
      "metadata": {
        "id": "MjdcVXWQpzRB",
        "colab_type": "code",
        "outputId": "c876acf8-27a6-414e-c357-b50605101ae2",
        "colab": {
          "base_uri": "https://localhost:8080/",
          "height": 34
        }
      },
      "source": [
        "from nltk.corpus import stopwords\n",
        "from nltk.stem import WordNetLemmatizer, PorterStemmer, LancasterStemmer\n",
        "porter = PorterStemmer()\n",
        "lancaster=LancasterStemmer()\n",
        "wordnet_lemmatizer = WordNetLemmatizer()\n",
        "stopwords_en = stopwords.words(\"english\")\n",
        "punctuations=\"?:!.,;'\\\"-()\"\n",
        "\n",
        "#parameters to adjust to see the impact on outcome\n",
        "remove_stopwords = True\n",
        "useStemming = False\n",
        "useLemma = True\n",
        "removePuncs = True\n",
        "\n",
        "for l in range(len(documents)):\n",
        "  label = documents[l][1]\n",
        "  tmpReview = []\n",
        "  for w in documents[l][0]:\n",
        "    newWord = w\n",
        "    if remove_stopwords and (w in stopwords_en):\n",
        "      continue\n",
        "    if removePuncs and (w in punctuations):\n",
        "      continue\n",
        "    if useStemming:\n",
        "      #newWord = porter.stem(newWord)\n",
        "      newWord = lancaster.stem(newWord)\n",
        "    if useLemma:\n",
        "      newWord = wordnet_lemmatizer.lemmatize(newWord)\n",
        "    tmpReview.append(newWord)\n",
        "  documents[l] = (' '.join(tmpReview), label)\n",
        "print(documents[2])"
      ],
      "execution_count": 11,
      "outputs": [
        {
          "output_type": "stream",
          "text": [
            "('Ian Holm conquers France earthy Napoleon', 3)\n"
          ],
          "name": "stdout"
        }
      ]
    },
    {
      "cell_type": "code",
      "metadata": {
        "id": "nIvhlyNSp5xA",
        "colab_type": "code",
        "colab": {}
      },
      "source": [
        "# all_data = pd.DataFrame(documents, columns=['text', 'sentiment'])\n",
        "# Splits the dataset so 70% is used for training and 30% for testing\n",
        "# X_train, X_test, Y_train, Y_test = train_test_split(X, Y, test_size=0.3, random_state = 2003)"
      ],
      "execution_count": 0,
      "outputs": []
    },
    {
      "cell_type": "code",
      "metadata": {
        "id": "WdcjeLAZdF9c",
        "colab_type": "code",
        "colab": {}
      },
      "source": [
        "all_data = pd.DataFrame(documents,\n",
        "                                columns=['text', 'sentiment'])\n",
        "# Splits the dataset so 70% is used for training and 30% for testing\n",
        "X_train, X_test, Y_train, Y_test = train_test_split(all_data['text'], all_data['sentiment'], test_size=0.3)"
      ],
      "execution_count": 0,
      "outputs": []
    },
    {
      "cell_type": "code",
      "metadata": {
        "id": "S1HH4K3BqSzm",
        "colab_type": "code",
        "colab": {}
      },
      "source": [
        "from sklearn.feature_extraction.text import TfidfVectorizer\n",
        "from sklearn.feature_extraction.text import CountVectorizer\n",
        "#Initialize number of features to be considered\n",
        "vec_length = 2500\n",
        "# Transform each text into a vector of word counts\n",
        "# vectorizer = CountVectorizer(stop_words=\"english\",\n",
        "#                              ngram_range=(1, 1))\n",
        "vectorizer = TfidfVectorizer(stop_words=\"english\",\n",
        "                            ngram_range=(1, 1))\n",
        "# vectorizer = CountVectorizer(stop_words=\"english\",\n",
        "#                              ngram_range=(1, 1), max_features = vec_length)\n",
        "# vectorizer = TfidfVectorizer(stop_words=\"english\",\n",
        "#                             ngram_range=(1, 1), max_features = vec_length)\n",
        "#X = vectorizer.fit_transform(all_data[\"text\"])\n",
        "#Y = all_data['sentiment']\n",
        "x_train = vectorizer.fit_transform(X_train)\n",
        "y_train = Y_train\n",
        "x_test = vectorizer.transform(X_test)\n",
        "y_test = Y_test"
      ],
      "execution_count": 0,
      "outputs": []
    },
    {
      "cell_type": "code",
      "metadata": {
        "id": "0Ze3zbu9sFpE",
        "colab_type": "code",
        "outputId": "a6523553-5f01-4f9b-e027-1239657a9a1d",
        "colab": {
          "base_uri": "https://localhost:8080/",
          "height": 84
        }
      },
      "source": [
        "# Converts the datasets to numpy arrays to work with our PyTorch model\n",
        "\n",
        "np.random.seed(9001)\n",
        "\n",
        "#Convert the training data\n",
        "# x_train_np = x_train\n",
        "x_train_np = x_train.toarray()\n",
        "y_train_np = to_categorical(y_train)\n",
        "# y_train_np = np.array(y_train)\n",
        "\n",
        "# Convert the testing data\n",
        "# x_test_np = x_test\n",
        "x_test_np = x_test.toarray()\n",
        "y_test_np = to_categorical(y_test)\n",
        "# y_test_np = np.array(y_test)\n",
        "\n",
        "print(x_train_np.shape)\n",
        "print(y_train_np.shape)\n",
        "print(x_test_np.shape)\n",
        "print(y_test_np.shape)"
      ],
      "execution_count": 14,
      "outputs": [
        {
          "output_type": "stream",
          "text": [
            "(109242, 2500)\n",
            "(109242, 5)\n",
            "(46818, 2500)\n",
            "(46818, 5)\n"
          ],
          "name": "stdout"
        }
      ]
    },
    {
      "cell_type": "code",
      "metadata": {
        "id": "tRFN_v2LqcOf",
        "colab_type": "code",
        "colab": {}
      },
      "source": [
        "# Changing input variable distribution to format to feed the model\n",
        "\n",
        "x_train_np = np.expand_dims(x_train_np, axis=2)\n",
        "x_test_np = np.expand_dims(x_test_np, axis=2)"
      ],
      "execution_count": 0,
      "outputs": []
    },
    {
      "cell_type": "code",
      "metadata": {
        "id": "vvoJFxdhqktW",
        "colab_type": "code",
        "outputId": "30c22e4f-aa18-4cfc-aee6-8a571180babd",
        "colab": {
          "base_uri": "https://localhost:8080/",
          "height": 70
        }
      },
      "source": [
        "#create model\n",
        "\n",
        "model = Sequential()\n",
        "model.add(BatchNormalization())\n",
        "model.add(Conv1D(filters = 128, kernel_size=1, activation='relu', input_shape=(x_train_np.shape[1],1)))\n",
        "# model.add(MaxPooling1D(pool_size =2))\n",
        "model.add(Conv1D(filters = 128, kernel_size=1, activation='relu'))\n",
        "# model.add(MaxPooling1D(pool_size =2))\n",
        "# model.add(Conv1D(filters = 128, kernel_size=1, activation='relu'))\n",
        "model.add(MaxPooling1D(pool_size =2))\n",
        "# model.add(GlobalAveragePooling1D())\n",
        "model.add(Flatten())\n",
        "model.add(Dense(100, activation='relu'))\n",
        "# model.add(BatchNormalization())\n",
        "# model.add(Dropout(0.5))\n",
        "model.add(Dense(5, activation='softmax'))"
      ],
      "execution_count": 16,
      "outputs": [
        {
          "output_type": "stream",
          "text": [
            "WARNING:tensorflow:From /usr/local/lib/python3.6/dist-packages/keras/backend/tensorflow_backend.py:66: The name tf.get_default_graph is deprecated. Please use tf.compat.v1.get_default_graph instead.\n",
            "\n"
          ],
          "name": "stdout"
        }
      ]
    },
    {
      "cell_type": "code",
      "metadata": {
        "id": "4ay65PUyVLfP",
        "colab_type": "code",
        "colab": {}
      },
      "source": [
        "# Create metrics for Precision, Recall, and F-1 Score\n",
        "\n",
        "from keras import backend as K\n",
        "\n",
        "def recall(y_true, y_pred):\n",
        "  true_positives = K.sum(K.round(K.clip(y_true * y_pred, 0, 1)))\n",
        "  possible_positives = K.sum(K.round(K.clip(y_true, 0, 1)))\n",
        "  recall = true_positives / (possible_positives + K.epsilon())\n",
        "  return recall\n",
        "\n",
        "def precision(y_true, y_pred):\n",
        "  true_positives = K.sum(K.round(K.clip(y_true * y_pred, 0, 1)))\n",
        "  predicted_positives = K.sum(K.round(K.clip(y_pred, 0, 1)))\n",
        "  precision = true_positives / (predicted_positives + K.epsilon())\n",
        "  return precision\n",
        "\n",
        "def f1score(y_true, y_pred):\n",
        "\n",
        "  prec = precision(y_true, y_pred)\n",
        "  rec = recall(y_true, y_pred)\n",
        "  f1score = (2 * (prec * rec)/(rec + prec))\n",
        "  return f1score\n"
      ],
      "execution_count": 0,
      "outputs": []
    },
    {
      "cell_type": "code",
      "metadata": {
        "id": "SzNy0zu5que0",
        "colab_type": "code",
        "outputId": "c1dbebf2-439b-4b69-8795-f290d6dbef0a",
        "colab": {
          "base_uri": "https://localhost:8080/",
          "height": 50
        }
      },
      "source": [
        "# Optimizers\n",
        "adam = keras.optimizers.Adam(lr = 0.0001)\n",
        "sgd = keras.optimizers.SGD(lr = 0.0001)\n",
        "nadam = keras.optimizers.Nadam(lr = 0.0001)\n",
        "rms = keras.optimizers.RMSprop(lr = 0.0001)\n",
        "adamax = keras.optimizers.Adamax(lr = 0.0001)\n",
        "#Compiling the model\n",
        "model.compile(optimizer=adamax, loss='categorical_crossentropy', metrics=['acc', recall, precision, f1score])"
      ],
      "execution_count": 18,
      "outputs": [
        {
          "output_type": "stream",
          "text": [
            "WARNING:tensorflow:From /usr/local/lib/python3.6/dist-packages/keras/optimizers.py:793: The name tf.train.Optimizer is deprecated. Please use tf.compat.v1.train.Optimizer instead.\n",
            "\n"
          ],
          "name": "stdout"
        }
      ]
    },
    {
      "cell_type": "code",
      "metadata": {
        "id": "ciGxnl4lqyWY",
        "colab_type": "code",
        "outputId": "761f40aa-c01a-476d-f9a9-b699cf626068",
        "colab": {
          "base_uri": "https://localhost:8080/",
          "height": 877
        }
      },
      "source": [
        "batch_size = 128  # Batch size\n",
        "epochs = 10 # Number of eopchs\n",
        "\n",
        "#Training the model\n",
        "history = model.fit(x_train_np, y_train_np, validation_data=( x_test_np, y_test_np), epochs= epochs, batch_size = batch_size)"
      ],
      "execution_count": 19,
      "outputs": [
        {
          "output_type": "stream",
          "text": [
            "WARNING:tensorflow:From /usr/local/lib/python3.6/dist-packages/keras/backend/tensorflow_backend.py:541: The name tf.placeholder is deprecated. Please use tf.compat.v1.placeholder instead.\n",
            "\n",
            "WARNING:tensorflow:From /usr/local/lib/python3.6/dist-packages/keras/backend/tensorflow_backend.py:148: The name tf.placeholder_with_default is deprecated. Please use tf.compat.v1.placeholder_with_default instead.\n",
            "\n",
            "WARNING:tensorflow:From /usr/local/lib/python3.6/dist-packages/keras/backend/tensorflow_backend.py:4432: The name tf.random_uniform is deprecated. Please use tf.random.uniform instead.\n",
            "\n",
            "WARNING:tensorflow:From /usr/local/lib/python3.6/dist-packages/keras/backend/tensorflow_backend.py:4267: The name tf.nn.max_pool is deprecated. Please use tf.nn.max_pool2d instead.\n",
            "\n",
            "WARNING:tensorflow:From /usr/local/lib/python3.6/dist-packages/keras/backend/tensorflow_backend.py:3576: The name tf.log is deprecated. Please use tf.math.log instead.\n",
            "\n",
            "WARNING:tensorflow:From /tensorflow-1.15.0/python3.6/tensorflow_core/python/ops/math_grad.py:1424: where (from tensorflow.python.ops.array_ops) is deprecated and will be removed in a future version.\n",
            "Instructions for updating:\n",
            "Use tf.where in 2.0, which has the same broadcast rule as np.where\n",
            "WARNING:tensorflow:From /usr/local/lib/python3.6/dist-packages/keras/backend/tensorflow_backend.py:1033: The name tf.assign_add is deprecated. Please use tf.compat.v1.assign_add instead.\n",
            "\n",
            "WARNING:tensorflow:From /usr/local/lib/python3.6/dist-packages/keras/backend/tensorflow_backend.py:1020: The name tf.assign is deprecated. Please use tf.compat.v1.assign instead.\n",
            "\n",
            "WARNING:tensorflow:From /usr/local/lib/python3.6/dist-packages/keras/backend/tensorflow_backend.py:3005: The name tf.Session is deprecated. Please use tf.compat.v1.Session instead.\n",
            "\n",
            "Train on 109242 samples, validate on 46818 samples\n",
            "Epoch 1/10\n",
            "WARNING:tensorflow:From /usr/local/lib/python3.6/dist-packages/keras/backend/tensorflow_backend.py:190: The name tf.get_default_session is deprecated. Please use tf.compat.v1.get_default_session instead.\n",
            "\n",
            "WARNING:tensorflow:From /usr/local/lib/python3.6/dist-packages/keras/backend/tensorflow_backend.py:197: The name tf.ConfigProto is deprecated. Please use tf.compat.v1.ConfigProto instead.\n",
            "\n",
            "WARNING:tensorflow:From /usr/local/lib/python3.6/dist-packages/keras/backend/tensorflow_backend.py:207: The name tf.global_variables is deprecated. Please use tf.compat.v1.global_variables instead.\n",
            "\n",
            "WARNING:tensorflow:From /usr/local/lib/python3.6/dist-packages/keras/backend/tensorflow_backend.py:216: The name tf.is_variable_initialized is deprecated. Please use tf.compat.v1.is_variable_initialized instead.\n",
            "\n",
            "WARNING:tensorflow:From /usr/local/lib/python3.6/dist-packages/keras/backend/tensorflow_backend.py:223: The name tf.variables_initializer is deprecated. Please use tf.compat.v1.variables_initializer instead.\n",
            "\n",
            "109242/109242 [==============================] - 37s 338us/step - loss: 1.1431 - acc: 0.5525 - recall: 0.3893 - precision: 0.6206 - f1score: nan - val_loss: 1.0752 - val_acc: 0.5761 - val_recall: 0.4366 - val_precision: 0.6574 - val_f1score: 0.5243\n",
            "Epoch 2/10\n",
            "109242/109242 [==============================] - 34s 308us/step - loss: 1.0483 - acc: 0.5859 - recall: 0.4439 - precision: 0.6665 - f1score: 0.5323 - val_loss: 1.0574 - val_acc: 0.5814 - val_recall: 0.4527 - val_precision: 0.6598 - val_f1score: 0.5365\n",
            "Epoch 3/10\n",
            "109242/109242 [==============================] - 34s 308us/step - loss: 1.0212 - acc: 0.5984 - recall: 0.4617 - precision: 0.6767 - f1score: 0.5484 - val_loss: 1.0444 - val_acc: 0.5912 - val_recall: 0.4614 - val_precision: 0.6662 - val_f1score: 0.5447\n",
            "Epoch 4/10\n",
            "109242/109242 [==============================] - 34s 307us/step - loss: 0.9986 - acc: 0.6117 - recall: 0.4790 - precision: 0.6853 - f1score: 0.5634 - val_loss: 1.0378 - val_acc: 0.5958 - val_recall: 0.4670 - val_precision: 0.6684 - val_f1score: 0.5494\n",
            "Epoch 5/10\n",
            "109242/109242 [==============================] - 34s 307us/step - loss: 0.9754 - acc: 0.6239 - recall: 0.5006 - precision: 0.6938 - f1score: 0.5811 - val_loss: 1.0299 - val_acc: 0.6015 - val_recall: 0.4759 - val_precision: 0.6691 - val_f1score: 0.5558\n",
            "Epoch 6/10\n",
            "109242/109242 [==============================] - 33s 306us/step - loss: 0.9496 - acc: 0.6378 - recall: 0.5243 - precision: 0.7016 - f1score: 0.5997 - val_loss: 1.0283 - val_acc: 0.6047 - val_recall: 0.4970 - val_precision: 0.6633 - val_f1score: 0.5678\n",
            "Epoch 7/10\n",
            "109242/109242 [==============================] - 33s 306us/step - loss: 0.9224 - acc: 0.6504 - recall: 0.5470 - precision: 0.7097 - f1score: 0.6174 - val_loss: 1.0248 - val_acc: 0.6085 - val_recall: 0.5147 - val_precision: 0.6588 - val_f1score: 0.5776\n",
            "Epoch 8/10\n",
            "109242/109242 [==============================] - 33s 306us/step - loss: 0.8946 - acc: 0.6635 - recall: 0.5712 - precision: 0.7152 - f1score: 0.6348 - val_loss: 1.0226 - val_acc: 0.6113 - val_recall: 0.5199 - val_precision: 0.6596 - val_f1score: 0.5811\n",
            "Epoch 9/10\n",
            "109242/109242 [==============================] - 33s 305us/step - loss: 0.8691 - acc: 0.6728 - recall: 0.5911 - precision: 0.7214 - f1score: 0.6495 - val_loss: 1.0286 - val_acc: 0.6137 - val_recall: 0.5296 - val_precision: 0.6538 - val_f1score: 0.5849\n",
            "Epoch 10/10\n",
            "109242/109242 [==============================] - 33s 306us/step - loss: 0.8455 - acc: 0.6812 - recall: 0.6094 - precision: 0.7252 - f1score: 0.6621 - val_loss: 1.0303 - val_acc: 0.6121 - val_recall: 0.5373 - val_precision: 0.6528 - val_f1score: 0.5892\n"
          ],
          "name": "stdout"
        }
      ]
    },
    {
      "cell_type": "code",
      "metadata": {
        "id": "cWnmLzXQX0Fj",
        "colab_type": "code",
        "outputId": "bf3702c1-3104-40d4-8804-e309c1530bd6",
        "colab": {
          "base_uri": "https://localhost:8080/",
          "height": 118
        }
      },
      "source": [
        "#Evaluating the model on training data\n",
        "\n",
        "train_loss, train_accuracy, train_recall, train_precision, train_f1score = model.evaluate(x_train_np, y_train_np)\n",
        "print(\"Train Loss: \", train_loss)\n",
        "print(\"Train Accuracy: \", train_accuracy)\n",
        "print(\"Train Recall: \", train_recall)\n",
        "print(\"Train Precision: \", train_precision)\n",
        "print(\"Train F1 Score: \", train_f1score)"
      ],
      "execution_count": 20,
      "outputs": [
        {
          "output_type": "stream",
          "text": [
            "109242/109242 [==============================] - 18s 163us/step\n",
            "Train Loss:  0.7927420104840458\n",
            "Train Accuracy:  0.7050401860068617\n",
            "Train Recall:  0.6286593068654551\n",
            "Train Precision:  0.7517089961854955\n",
            "Train F1 Score:  0.6836895944586747\n"
          ],
          "name": "stdout"
        }
      ]
    },
    {
      "cell_type": "code",
      "metadata": {
        "id": "ERknpDhWqtqD",
        "colab_type": "code",
        "outputId": "8df311c2-f269-4ef4-8519-f3dd4e388c51",
        "colab": {
          "base_uri": "https://localhost:8080/",
          "height": 118
        }
      },
      "source": [
        "#Evaluating the model on test data\n",
        "\n",
        "test_loss, test_accuracy, test_recall, test_precision, test_f1score = model.evaluate(x_test_np, y_test_np)\n",
        "print(\"Test Loss: \", test_loss)\n",
        "print(\"Test Accuracy: \", test_accuracy)\n",
        "print(\"Test Recall: \", test_recall)\n",
        "print(\"Test Precision: \", test_precision)\n",
        "print(\"Test F1 Score: \", test_f1score)"
      ],
      "execution_count": 21,
      "outputs": [
        {
          "output_type": "stream",
          "text": [
            "46818/46818 [==============================] - 8s 163us/step\n",
            "Test Loss:  1.0302822533806333\n",
            "Test Accuracy:  0.6120936391985988\n",
            "Test Recall:  0.5372933487120338\n",
            "Test Precision:  0.6529824115815587\n",
            "Test F1 Score:  nan\n"
          ],
          "name": "stdout"
        }
      ]
    },
    {
      "cell_type": "code",
      "metadata": {
        "id": "CgwZq_Bos3EC",
        "colab_type": "code",
        "colab": {}
      },
      "source": [
        "model.save('1116613_1dconv_sent.h5')"
      ],
      "execution_count": 0,
      "outputs": []
    }
  ]
}